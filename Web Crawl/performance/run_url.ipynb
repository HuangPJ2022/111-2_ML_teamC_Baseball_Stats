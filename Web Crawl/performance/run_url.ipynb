{
 "cells": [
  {
   "cell_type": "code",
   "execution_count": 6,
   "metadata": {},
   "outputs": [],
   "source": [
    "import time\n",
    "import numpy as np\n",
    "import pandas as pd\n",
    "from selenium import webdriver\n",
    "from selenium.webdriver.common.keys import Keys\n",
    "from bs4 import BeautifulSoup\n",
    "import requests"
   ]
  },
  {
   "cell_type": "code",
   "execution_count": 4,
   "metadata": {},
   "outputs": [
    {
     "data": {
      "text/html": [
       "<div>\n",
       "<style scoped>\n",
       "    .dataframe tbody tr th:only-of-type {\n",
       "        vertical-align: middle;\n",
       "    }\n",
       "\n",
       "    .dataframe tbody tr th {\n",
       "        vertical-align: top;\n",
       "    }\n",
       "\n",
       "    .dataframe thead th {\n",
       "        text-align: right;\n",
       "    }\n",
       "</style>\n",
       "<table border=\"1\" class=\"dataframe\">\n",
       "  <thead>\n",
       "    <tr style=\"text-align: right;\">\n",
       "      <th></th>\n",
       "      <th>order</th>\n",
       "      <th>player</th>\n",
       "      <th>value</th>\n",
       "      <th>draft year</th>\n",
       "    </tr>\n",
       "  </thead>\n",
       "  <tbody>\n",
       "    <tr>\n",
       "      <th>2910</th>\n",
       "      <td>2911</td>\n",
       "      <td>A.J. Achter</td>\n",
       "      <td>500000</td>\n",
       "      <td>2010</td>\n",
       "    </tr>\n",
       "    <tr>\n",
       "      <th>2894</th>\n",
       "      <td>2895</td>\n",
       "      <td>A.J. Achter</td>\n",
       "      <td>507500</td>\n",
       "      <td>2010</td>\n",
       "    </tr>\n",
       "    <tr>\n",
       "      <th>2862</th>\n",
       "      <td>2863</td>\n",
       "      <td>A.J. Achter</td>\n",
       "      <td>507500</td>\n",
       "      <td>2010</td>\n",
       "    </tr>\n",
       "    <tr>\n",
       "      <th>5565</th>\n",
       "      <td>5566</td>\n",
       "      <td>A.J. Burnett</td>\n",
       "      <td>82500000</td>\n",
       "      <td>1995</td>\n",
       "    </tr>\n",
       "    <tr>\n",
       "      <th>5567</th>\n",
       "      <td>5568</td>\n",
       "      <td>A.J. Burnett</td>\n",
       "      <td>55000000</td>\n",
       "      <td>1995</td>\n",
       "    </tr>\n",
       "    <tr>\n",
       "      <th>...</th>\n",
       "      <td>...</td>\n",
       "      <td>...</td>\n",
       "      <td>...</td>\n",
       "      <td>...</td>\n",
       "    </tr>\n",
       "    <tr>\n",
       "      <th>3111</th>\n",
       "      <td>3112</td>\n",
       "      <td>Zack Wheeler</td>\n",
       "      <td>800000</td>\n",
       "      <td>2009</td>\n",
       "    </tr>\n",
       "    <tr>\n",
       "      <th>3287</th>\n",
       "      <td>3288</td>\n",
       "      <td>Zack Wheeler</td>\n",
       "      <td>490000</td>\n",
       "      <td>2009</td>\n",
       "    </tr>\n",
       "    <tr>\n",
       "      <th>3022</th>\n",
       "      <td>3023</td>\n",
       "      <td>Zack Wheeler</td>\n",
       "      <td>5975000</td>\n",
       "      <td>2009</td>\n",
       "    </tr>\n",
       "    <tr>\n",
       "      <th>3047</th>\n",
       "      <td>3048</td>\n",
       "      <td>Zack Wheeler</td>\n",
       "      <td>3300000</td>\n",
       "      <td>2009</td>\n",
       "    </tr>\n",
       "    <tr>\n",
       "      <th>3073</th>\n",
       "      <td>3074</td>\n",
       "      <td>Zack Wheeler</td>\n",
       "      <td>1900000</td>\n",
       "      <td>2009</td>\n",
       "    </tr>\n",
       "  </tbody>\n",
       "</table>\n",
       "<p>5919 rows × 4 columns</p>\n",
       "</div>"
      ],
      "text/plain": [
       "      order        player     value  draft year\n",
       "2910   2911   A.J. Achter    500000        2010\n",
       "2894   2895   A.J. Achter    507500        2010\n",
       "2862   2863   A.J. Achter    507500        2010\n",
       "5565   5566  A.J. Burnett  82500000        1995\n",
       "5567   5568  A.J. Burnett  55000000        1995\n",
       "...     ...           ...       ...         ...\n",
       "3111   3112  Zack Wheeler    800000        2009\n",
       "3287   3288  Zack Wheeler    490000        2009\n",
       "3022   3023  Zack Wheeler   5975000        2009\n",
       "3047   3048  Zack Wheeler   3300000        2009\n",
       "3073   3074  Zack Wheeler   1900000        2009\n",
       "\n",
       "[5919 rows x 4 columns]"
      ]
     },
     "execution_count": 4,
     "metadata": {},
     "output_type": "execute_result"
    }
   ],
   "source": [
    "#讀檔\n",
    "data = pd.read_csv('v1.csv')\n",
    "data = data.sort_values(by='player')\n",
    "data"
   ]
  },
  {
   "cell_type": "code",
   "execution_count": 5,
   "metadata": {},
   "outputs": [
    {
     "data": {
      "text/html": [
       "<div>\n",
       "<style scoped>\n",
       "    .dataframe tbody tr th:only-of-type {\n",
       "        vertical-align: middle;\n",
       "    }\n",
       "\n",
       "    .dataframe tbody tr th {\n",
       "        vertical-align: top;\n",
       "    }\n",
       "\n",
       "    .dataframe thead th {\n",
       "        text-align: right;\n",
       "    }\n",
       "</style>\n",
       "<table border=\"1\" class=\"dataframe\">\n",
       "  <thead>\n",
       "    <tr style=\"text-align: right;\">\n",
       "      <th></th>\n",
       "      <th>order</th>\n",
       "      <th>player</th>\n",
       "      <th>value</th>\n",
       "      <th>draft year</th>\n",
       "    </tr>\n",
       "  </thead>\n",
       "  <tbody>\n",
       "    <tr>\n",
       "      <th>2910</th>\n",
       "      <td>2911</td>\n",
       "      <td>A.J. Achter</td>\n",
       "      <td>500000</td>\n",
       "      <td>2010</td>\n",
       "    </tr>\n",
       "    <tr>\n",
       "      <th>5565</th>\n",
       "      <td>5566</td>\n",
       "      <td>A.J. Burnett</td>\n",
       "      <td>82500000</td>\n",
       "      <td>1995</td>\n",
       "    </tr>\n",
       "    <tr>\n",
       "      <th>2883</th>\n",
       "      <td>2884</td>\n",
       "      <td>A.J. Cole</td>\n",
       "      <td>507500</td>\n",
       "      <td>2010</td>\n",
       "    </tr>\n",
       "    <tr>\n",
       "      <th>2675</th>\n",
       "      <td>2676</td>\n",
       "      <td>A.J. Griffin</td>\n",
       "      <td>2000000</td>\n",
       "      <td>2010</td>\n",
       "    </tr>\n",
       "    <tr>\n",
       "      <th>975</th>\n",
       "      <td>976</td>\n",
       "      <td>A.J. Minter</td>\n",
       "      <td>535000</td>\n",
       "      <td>2015</td>\n",
       "    </tr>\n",
       "    <tr>\n",
       "      <th>...</th>\n",
       "      <td>...</td>\n",
       "      <td>...</td>\n",
       "      <td>...</td>\n",
       "      <td>...</td>\n",
       "    </tr>\n",
       "    <tr>\n",
       "      <th>4020</th>\n",
       "      <td>4021</td>\n",
       "      <td>Zack Britton</td>\n",
       "      <td>12000000</td>\n",
       "      <td>2006</td>\n",
       "    </tr>\n",
       "    <tr>\n",
       "      <th>1688</th>\n",
       "      <td>1689</td>\n",
       "      <td>Zack Godley</td>\n",
       "      <td>35000</td>\n",
       "      <td>2013</td>\n",
       "    </tr>\n",
       "    <tr>\n",
       "      <th>4944</th>\n",
       "      <td>4945</td>\n",
       "      <td>Zack Greinke</td>\n",
       "      <td>147000000</td>\n",
       "      <td>2002</td>\n",
       "    </tr>\n",
       "    <tr>\n",
       "      <th>58</th>\n",
       "      <td>59</td>\n",
       "      <td>Zack Thompson</td>\n",
       "      <td>700000</td>\n",
       "      <td>2019</td>\n",
       "    </tr>\n",
       "    <tr>\n",
       "      <th>3198</th>\n",
       "      <td>3199</td>\n",
       "      <td>Zack Wheeler</td>\n",
       "      <td>512375</td>\n",
       "      <td>2009</td>\n",
       "    </tr>\n",
       "  </tbody>\n",
       "</table>\n",
       "<p>957 rows × 4 columns</p>\n",
       "</div>"
      ],
      "text/plain": [
       "      order         player      value  draft year\n",
       "2910   2911    A.J. Achter     500000        2010\n",
       "5565   5566   A.J. Burnett   82500000        1995\n",
       "2883   2884      A.J. Cole     507500        2010\n",
       "2675   2676   A.J. Griffin    2000000        2010\n",
       "975     976    A.J. Minter     535000        2015\n",
       "...     ...            ...        ...         ...\n",
       "4020   4021   Zack Britton   12000000        2006\n",
       "1688   1689    Zack Godley      35000        2013\n",
       "4944   4945   Zack Greinke  147000000        2002\n",
       "58       59  Zack Thompson     700000        2019\n",
       "3198   3199   Zack Wheeler     512375        2009\n",
       "\n",
       "[957 rows x 4 columns]"
      ]
     },
     "execution_count": 5,
     "metadata": {},
     "output_type": "execute_result"
    }
   ],
   "source": [
    "data = data.drop_duplicates(subset='player')\n",
    "data"
   ]
  },
  {
   "cell_type": "code",
   "execution_count": 6,
   "metadata": {},
   "outputs": [],
   "source": [
    "player = list(data['player'])"
   ]
  },
  {
   "cell_type": "code",
   "execution_count": 26,
   "metadata": {},
   "outputs": [],
   "source": [
    "player_url=[]"
   ]
  },
  {
   "cell_type": "code",
   "execution_count": 8,
   "metadata": {},
   "outputs": [],
   "source": [
    "def find_urls(player_list):\n",
    "    #webdriver路徑\n",
    "    driver = webdriver.Chrome('\\chromedriver.exe')\n",
    "\n",
    "    for player_name in player_list:\n",
    "        #載入statcast\n",
    "        driver.get(\"https://baseballsavant.mlb.com/statcast_search\")\n",
    "        time.sleep(1)\n",
    "        search = driver.find_element('xpath','/html/body/header/div[3]/div/div/div/input')\n",
    "        time.sleep(1)\n",
    "        search.clear\n",
    "        search.send_keys(player_name)\n",
    "        time.sleep(3)\n",
    "        search.send_keys(Keys.ENTER)\n",
    "        time.sleep(3)\n",
    "\n",
    "        url = driver.current_url\n",
    "        player_url.append(url)\n",
    "        time.sleep(1)"
   ]
  },
  {
   "cell_type": "code",
   "execution_count": 16,
   "metadata": {},
   "outputs": [
    {
     "name": "stdout",
     "output_type": "stream",
     "text": [
      "['Scott Feldman', 'Scott Kazmir', 'Scott McGough', 'Scott Oberg', 'Scott Rice', 'Sean Burnett', 'Sean Hjelle', 'Sean Manaea', 'Sean Marshall', \"Sean O'Sullivan\", 'Sergio Romo', 'Sergio Santos', 'Seth Frankoff', 'Seth Lugo', 'Seth Martinez', 'Seth Romero', 'Shane Baz', 'Shane Bieber', 'Shane Carle', 'Shane McClanahan', 'Shaun Anderson', 'Shaun Marcum', 'Shawn Armstrong', 'Shawn Kelley', 'Shawn Morimando', 'Shawn Tolleson', 'Shelby Miller', 'Sonny Gray', 'Spencer Adams', 'Spencer Howard', 'Spencer Patton', 'Spencer Strider', 'Spencer Turnbull', 'Stefan Crichton', 'Stephen Ridings', 'Stephen Strasburg', 'Steve Cishek', 'Steve Delabar', 'Steve Hathaway', 'Steve Johnson', 'Steve Karsay', 'Steve Nogosek', 'Steven Matz', 'Steven Okert', 'Steven Wilson', 'Steven Wright', 'T.J. House', 'Taijuan Walker', 'Taj Bradley', 'Tanner Anderson', 'Tanner Banks', 'Tanner Houck', 'Tanner Rainey', 'Tanner Roark', 'Tanner Scott', 'Tarik Skubal', 'Tayler Saucedo', 'Taylor Clarke', 'Taylor Cole', 'Taylor Guilbeau', 'Taylor Hill', 'Taylor Jordan', 'Taylor Rogers', 'Ted Lilly', 'Tejay Antone', 'Thad Ward', 'Thad Weber', 'Thomas Szapucki', 'Tim Cooney', 'Tim Herrin', 'Tim Hill', 'Tim Hudson', 'Tim Lincecum', 'Tim Mayza', 'Tim Wakefield', 'Todd Coffey', 'Todd Jones', 'Todd Redmond', 'Tom Glavine', 'Tom Koehler', 'Tom Wilhelmsen', 'Tommy Hunter', 'Tommy Kahnle', 'Tony Barnette', 'Tony Cingrani', 'Tony Santillan', 'Tony Sipp', 'Tony Watson', 'Tony Zych', 'Travis Lakins', 'Travis Wood', 'Trent Autry', 'Trevor Bauer', 'Trevor Gott', 'Trevor Hoffman', 'Trevor May', 'Trevor Rogers', 'Trevor Stephan', 'Trevor Williams', 'Trey Wingenter']\n"
     ]
    }
   ],
   "source": [
    "x = 800\n",
    "no_=player[x:x+100]\n",
    "print(no_)"
   ]
  },
  {
   "cell_type": "code",
   "execution_count": 29,
   "metadata": {},
   "outputs": [
    {
     "name": "stdout",
     "output_type": "stream",
     "text": [
      "['Tristan Beck', 'Triston McKenzie', 'Trystan Magnuson', 'Tucker Davidson', 'Ty Blach', 'Tyler Alexander', 'Tyler Anderson', 'Tyler Clippard', 'Tyler Cloyd', 'Tyler Glasnow', 'Tyler Holton', 'Tyler Jones', 'Tyler Kinley', 'Tyler Mahle', 'Tyler Matzek', 'Tyler Poulin', 'Tyler Rogers', 'Tyler Skaggs', 'Tyler Webb', 'Tyler Wells', 'Tyler Wilson', 'Tylor Megill', 'Vincent Velasquez', 'Vinnie Pestano', 'Wade Davis', 'Wade LeBlanc', 'Wade Miley', 'Walker Buehler', 'Walker Lockett', 'Wes Benjamin', 'Wil Crowe', 'Will Harris', 'Will Ohman', 'Will Smith', 'Williams Jerez', 'Wyatt Mills', 'Xavier Cedeno', 'Xzavion Curry', 'Yency Almonte', 'Yovani Gallardo', 'Zac Curtis', 'Zac Gallen', 'Zac Reininger', 'Zac Rosscup', 'Zach Davies', 'Zach Duke', 'Zach Eflin', 'Zach Jackson', 'Zach Neal', 'Zach Plesac', 'Zach Pop', 'Zach Putnam', 'Zack Britton', 'Zack Godley', 'Zack Greinke', 'Zack Thompson', 'Zack Wheeler']\n"
     ]
    }
   ],
   "source": [
    "no_ = player[900:958]\n",
    "print(no_)"
   ]
  },
  {
   "cell_type": "code",
   "execution_count": 30,
   "metadata": {},
   "outputs": [
    {
     "name": "stderr",
     "output_type": "stream",
     "text": [
      "C:\\Users\\User\\AppData\\Local\\Temp\\ipykernel_14188\\1139885554.py:3: DeprecationWarning: executable_path has been deprecated, please pass in a Service object\n",
      "  driver = webdriver.Chrome('\\chromedriver.exe')\n"
     ]
    }
   ],
   "source": [
    "find_urls(no_)"
   ]
  },
  {
   "cell_type": "code",
   "execution_count": 24,
   "metadata": {},
   "outputs": [
    {
     "name": "stdout",
     "output_type": "stream",
     "text": [
      "100\n"
     ]
    }
   ],
   "source": [
    "print(len(player_url))"
   ]
  },
  {
   "cell_type": "code",
   "execution_count": 25,
   "metadata": {},
   "outputs": [
    {
     "data": {
      "text/html": [
       "<div>\n",
       "<style scoped>\n",
       "    .dataframe tbody tr th:only-of-type {\n",
       "        vertical-align: middle;\n",
       "    }\n",
       "\n",
       "    .dataframe tbody tr th {\n",
       "        vertical-align: top;\n",
       "    }\n",
       "\n",
       "    .dataframe thead th {\n",
       "        text-align: right;\n",
       "    }\n",
       "</style>\n",
       "<table border=\"1\" class=\"dataframe\">\n",
       "  <thead>\n",
       "    <tr style=\"text-align: right;\">\n",
       "      <th></th>\n",
       "      <th>name</th>\n",
       "      <th>url</th>\n",
       "    </tr>\n",
       "  </thead>\n",
       "  <tbody>\n",
       "    <tr>\n",
       "      <th>0</th>\n",
       "      <td>Scott Feldman</td>\n",
       "      <td>https://baseballsavant.mlb.com/savant-player/s...</td>\n",
       "    </tr>\n",
       "    <tr>\n",
       "      <th>1</th>\n",
       "      <td>Scott Kazmir</td>\n",
       "      <td>https://baseballsavant.mlb.com/savant-player/s...</td>\n",
       "    </tr>\n",
       "    <tr>\n",
       "      <th>2</th>\n",
       "      <td>Scott McGough</td>\n",
       "      <td>https://baseballsavant.mlb.com/savant-player/s...</td>\n",
       "    </tr>\n",
       "    <tr>\n",
       "      <th>3</th>\n",
       "      <td>Scott Oberg</td>\n",
       "      <td>https://baseballsavant.mlb.com/savant-player/s...</td>\n",
       "    </tr>\n",
       "    <tr>\n",
       "      <th>4</th>\n",
       "      <td>Scott Rice</td>\n",
       "      <td>https://baseballsavant.mlb.com/savant-player/s...</td>\n",
       "    </tr>\n",
       "    <tr>\n",
       "      <th>...</th>\n",
       "      <td>...</td>\n",
       "      <td>...</td>\n",
       "    </tr>\n",
       "    <tr>\n",
       "      <th>95</th>\n",
       "      <td>Trevor May</td>\n",
       "      <td>https://baseballsavant.mlb.com/savant-player/t...</td>\n",
       "    </tr>\n",
       "    <tr>\n",
       "      <th>96</th>\n",
       "      <td>Trevor Rogers</td>\n",
       "      <td>https://baseballsavant.mlb.com/savant-player/t...</td>\n",
       "    </tr>\n",
       "    <tr>\n",
       "      <th>97</th>\n",
       "      <td>Trevor Stephan</td>\n",
       "      <td>https://baseballsavant.mlb.com/savant-player/t...</td>\n",
       "    </tr>\n",
       "    <tr>\n",
       "      <th>98</th>\n",
       "      <td>Trevor Williams</td>\n",
       "      <td>https://baseballsavant.mlb.com/savant-player/t...</td>\n",
       "    </tr>\n",
       "    <tr>\n",
       "      <th>99</th>\n",
       "      <td>Trey Wingenter</td>\n",
       "      <td>https://baseballsavant.mlb.com/savant-player/t...</td>\n",
       "    </tr>\n",
       "  </tbody>\n",
       "</table>\n",
       "<p>100 rows × 2 columns</p>\n",
       "</div>"
      ],
      "text/plain": [
       "               name                                                url\n",
       "0     Scott Feldman  https://baseballsavant.mlb.com/savant-player/s...\n",
       "1      Scott Kazmir  https://baseballsavant.mlb.com/savant-player/s...\n",
       "2     Scott McGough  https://baseballsavant.mlb.com/savant-player/s...\n",
       "3       Scott Oberg  https://baseballsavant.mlb.com/savant-player/s...\n",
       "4        Scott Rice  https://baseballsavant.mlb.com/savant-player/s...\n",
       "..              ...                                                ...\n",
       "95       Trevor May  https://baseballsavant.mlb.com/savant-player/t...\n",
       "96    Trevor Rogers  https://baseballsavant.mlb.com/savant-player/t...\n",
       "97   Trevor Stephan  https://baseballsavant.mlb.com/savant-player/t...\n",
       "98  Trevor Williams  https://baseballsavant.mlb.com/savant-player/t...\n",
       "99   Trey Wingenter  https://baseballsavant.mlb.com/savant-player/t...\n",
       "\n",
       "[100 rows x 2 columns]"
      ]
     },
     "execution_count": 25,
     "metadata": {},
     "output_type": "execute_result"
    }
   ],
   "source": [
    "df = pd.DataFrame({'name':no_, 'url':player_url})\n",
    "df.to_csv(f'url_{x+1}_{x+100}.csv', index=False)\n",
    "df"
   ]
  },
  {
   "cell_type": "code",
   "execution_count": null,
   "metadata": {},
   "outputs": [],
   "source": [
    "df = pd.DataFrame({'name':no_, 'url':player_url})\n",
    "df.to_csv('url_901_957.csv', index=False)\n",
    "df"
   ]
  }
 ],
 "metadata": {
  "kernelspec": {
   "display_name": "Python 3",
   "language": "python",
   "name": "python3"
  },
  "language_info": {
   "codemirror_mode": {
    "name": "ipython",
    "version": 3
   },
   "file_extension": ".py",
   "mimetype": "text/x-python",
   "name": "python",
   "nbconvert_exporter": "python",
   "pygments_lexer": "ipython3",
   "version": "3.10.11"
  },
  "orig_nbformat": 4
 },
 "nbformat": 4,
 "nbformat_minor": 2
}
