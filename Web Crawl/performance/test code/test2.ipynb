{
 "cells": [
  {
   "cell_type": "code",
   "execution_count": 3,
   "metadata": {},
   "outputs": [],
   "source": [
    "import time\n",
    "from selenium import webdriver\n",
    "from selenium.webdriver.common.keys import Keys\n"
   ]
  },
  {
   "cell_type": "code",
   "execution_count": 2,
   "metadata": {},
   "outputs": [],
   "source": [
    "player_name = 'Shohei Ohtani'"
   ]
  },
  {
   "cell_type": "code",
   "execution_count": 4,
   "metadata": {},
   "outputs": [
    {
     "name": "stderr",
     "output_type": "stream",
     "text": [
      "C:\\Users\\User\\AppData\\Local\\Temp\\ipykernel_26208\\2856942425.py:2: DeprecationWarning: executable_path has been deprecated, please pass in a Service object\n",
      "  driver = webdriver.Chrome('\\chromedriver.exe')\n"
     ]
    },
    {
     "name": "stdout",
     "output_type": "stream",
     "text": [
      "https://baseballsavant.mlb.com/savant-player/shohei-ohtani-660271?stats=statcast-r-hitting-mlb\n"
     ]
    }
   ],
   "source": [
    "#webdriver路徑\n",
    "driver = webdriver.Chrome('\\chromedriver.exe')\n",
    "#載入statcast\n",
    "driver.get(\"https://baseballsavant.mlb.com/\")\n",
    "time.sleep(1)\n",
    "\n",
    "search = driver.find_element('xpath','/html/body/header/div[3]/div/div/div/input')\n",
    "search.clear()\n",
    "search.send_keys(player_name)\n",
    "time.sleep(1)\n",
    "search.send_keys(Keys.ENTER)\n",
    "time.sleep(1)\n",
    "\n",
    "url = driver.current_url\n",
    "print(url)"
   ]
  },
  {
   "cell_type": "code",
   "execution_count": 1,
   "metadata": {},
   "outputs": [],
   "source": [
    "x = ['David Price', 'Clayton Kershaw']"
   ]
  },
  {
   "cell_type": "code",
   "execution_count": 4,
   "metadata": {},
   "outputs": [
    {
     "name": "stderr",
     "output_type": "stream",
     "text": [
      "C:\\Users\\User\\AppData\\Local\\Temp\\ipykernel_6084\\2887131218.py:2: DeprecationWarning: executable_path has been deprecated, please pass in a Service object\n",
      "  driver = webdriver.Chrome('\\chromedriver.exe')\n"
     ]
    },
    {
     "name": "stdout",
     "output_type": "stream",
     "text": [
      "https://baseballsavant.mlb.com/savant-player/david-price-456034?stats=statcast-r-pitching-mlb\n",
      "https://baseballsavant.mlb.com/savant-player/clayton-kershaw-477132?stats=statcast-r-pitching-mlb\n"
     ]
    }
   ],
   "source": [
    "#webdriver路徑\n",
    "driver = webdriver.Chrome('\\chromedriver.exe')\n",
    "#載入statcast\n",
    "driver.get(\"https://baseballsavant.mlb.com/\")\n",
    "time.sleep(1)\n",
    "\n",
    "for i in x:\n",
    "    search = driver.find_element('xpath','/html/body/header/div[3]/div/div/div/input')\n",
    "    search.clear()\n",
    "    search.send_keys(i)\n",
    "    time.sleep(1)\n",
    "    search.send_keys(Keys.ENTER)\n",
    "    time.sleep(1)\n",
    "\n",
    "    url = driver.current_url\n",
    "    print(url)"
   ]
  }
 ],
 "metadata": {
  "kernelspec": {
   "display_name": "Python 3",
   "language": "python",
   "name": "python3"
  },
  "language_info": {
   "codemirror_mode": {
    "name": "ipython",
    "version": 3
   },
   "file_extension": ".py",
   "mimetype": "text/x-python",
   "name": "python",
   "nbconvert_exporter": "python",
   "pygments_lexer": "ipython3",
   "version": "3.10.11"
  },
  "orig_nbformat": 4
 },
 "nbformat": 4,
 "nbformat_minor": 2
}
