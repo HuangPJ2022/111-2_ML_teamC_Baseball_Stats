{
 "cells": [
  {
   "cell_type": "code",
   "execution_count": null,
   "metadata": {
    "collapsed": true
   },
   "outputs": [],
   "source": [
    "import pandas as pd\n",
    "import requests\n",
    "import json\n",
    "import sys\n",
    "import time"
   ]
  },
  {
   "cell_type": "markdown",
   "metadata": {},
   "source": [
    "獲取隊伍資料"
   ]
  },
  {
   "cell_type": "code",
   "execution_count": null,
   "metadata": {
    "collapsed": false
   },
   "outputs": [],
   "source": [
    "r = requests.get(\n",
    "    \"https://bdfed.stitch.mlbinfra.com/bdfed/stats/team?stitch_env=prod&sportId=1&gameType=R&group=hitting&stats=season&season=2023&limit=30&offset=0\",\n",
    ")"
   ]
  },
  {
   "cell_type": "code",
   "execution_count": null,
   "metadata": {
    "collapsed": false
   },
   "outputs": [],
   "source": [
    "teams = json.loads(r.content)"
   ]
  },
  {
   "cell_type": "code",
   "execution_count": null,
   "metadata": {
    "collapsed": false
   },
   "outputs": [],
   "source": [
    "teams"
   ]
  },
  {
   "cell_type": "code",
   "execution_count": null,
   "metadata": {
    "collapsed": false
   },
   "outputs": [],
   "source": [
    "team_name_id= {team[\"teamShortName\"]: team[\"teamId\"] for team in teams[\"stats\"]}"
   ]
  },
  {
   "cell_type": "code",
   "execution_count": null,
   "metadata": {
    "collapsed": false
   },
   "outputs": [],
   "source": [
    "team_name_id"
   ]
  },
  {
   "cell_type": "markdown",
   "metadata": {},
   "source": [
    "獲取打者資料"
   ]
  },
  {
   "cell_type": "code",
   "execution_count": null,
   "metadata": {
    "collapsed": false
   },
   "outputs": [],
   "source": [
    "batters = list()\n",
    "\n",
    "for key in team_name_id.keys():\n",
    "    r = requests.get(\n",
    "        f\"https://bdfed.stitch.mlbinfra.com/bdfed/stats/player?stitch_env=prod&season=2023&sportId=1&stats=season&group=hitting&gameType=R&limit=50&offset=0&sortStat=homeRuns&order=desc&teamId={team_name_id[key]}\"\n",
    "    )\n",
    "    players = json.loads(r.content)\n",
    "\n",
    "    for player in players[\"stats\"]:\n",
    "        player_tuple = player[\"playerId\"], player[\"playerName\"], key\n",
    "        batters.append(player_tuple)\n",
    "\n",
    "\n",
    "batters[:10]"
   ]
  },
  {
   "cell_type": "code",
   "execution_count": null,
   "metadata": {
    "collapsed": false
   },
   "outputs": [],
   "source": [
    "len(batters)"
   ]
  },
  {
   "cell_type": "markdown",
   "metadata": {},
   "source": [
    "### 主程式"
   ]
  },
  {
   "cell_type": "markdown",
   "metadata": {},
   "source": [
    "生涯對決"
   ]
  },
  {
   "cell_type": "code",
   "execution_count": null,
   "metadata": {},
   "outputs": [],
   "source": [
    "def pitcher_vs_batter(x,y):    \n",
    "    i = 0\n",
    "    j = x\n",
    "    for batter in batters[x:y]:\n",
    "        player_name = []\n",
    "        player_team = []\n",
    "        pitcher_name = []\n",
    "        pitcher_team = []\n",
    "        ab = []\n",
    "        h = []\n",
    "        twob = []\n",
    "        threeb = []\n",
    "        hr = []\n",
    "        rbi = []\n",
    "        bb = []\n",
    "        ibb = []\n",
    "        so = []\n",
    "        avg = []\n",
    "        obp = []\n",
    "        slg = []\n",
    "        ops = []\n",
    "        playerId, playerName, teamName = batter\n",
    "        for team in team_name_id.keys():\n",
    "            if teamName == team:\n",
    "                continue\n",
    "            \n",
    "            url = f\"https://statsapi.mlb.com/api/v1/people/{playerId}/stats?stats=vsTeam&group=hitting&opposingTeamId={team_name_id[team]}&season=2023&language=en\"\n",
    "            #print(url)\n",
    "            r = requests.get(url)\n",
    "            player_json = json.loads(r.content)\n",
    "            \n",
    "            for data_type in player_json[\"stats\"]:\n",
    "                if data_type[\"type\"][\"displayName\"] == \"vsTeamTotal\":\n",
    "                    continue\n",
    "                for split in data_type[\"splits\"]:\n",
    "                    split_stat = split[\"stat\"]\n",
    "                    player_name.append(split[\"batter\"][\"fullName\"])\n",
    "                    player_team.append(split[\"team\"][\"name\"])\n",
    "                    pitcher_name.append(split[\"pitcher\"][\"fullName\"])\n",
    "                    pitcher_team.append(split[\"opponent\"][\"name\"])\n",
    "                    ab.append(split_stat[\"atBats\"])\n",
    "                    h.append(split_stat[\"hits\"])\n",
    "                    twob.append(split_stat[\"doubles\"])\n",
    "                    threeb.append(split_stat[\"triples\"])\n",
    "                    hr.append(split_stat[\"homeRuns\"])\n",
    "                    rbi.append(split_stat[\"rbi\"])\n",
    "                    bb.append(split_stat[\"baseOnBalls\"])\n",
    "                    ibb.append(split_stat[\"intentionalWalks\"])\n",
    "                    so.append(split_stat[\"strikeOuts\"])\n",
    "                    avg.append(split_stat[\"avg\"])\n",
    "                    obp.append(split_stat[\"obp\"])\n",
    "                    slg.append(split_stat[\"slg\"])\n",
    "                    ops.append(split_stat[\"ops\"])\n",
    "\n",
    "\n",
    "        df = pd.DataFrame(\n",
    "            {\n",
    "                \"player_name\": player_name,\n",
    "                \"player_team\": player_team,\n",
    "                \"pitcher_name\": pitcher_name,\n",
    "                \"pitcher_team\": pitcher_team,\n",
    "                \"ab\": ab,\n",
    "                \"h\": h,\n",
    "                \"2b\": twob,\n",
    "                \"3b\": threeb,\n",
    "                \"hr\": hr,\n",
    "                \"rbi\": rbi,\n",
    "                \"bb\": bb,\n",
    "                \"ibb\": ibb,\n",
    "                \"so\": so,\n",
    "                \"avg\": avg,\n",
    "                \"obp\": obp,\n",
    "                \"slg\": slg,\n",
    "                \"ops\": ops,\n",
    "            }\n",
    "        )\n",
    "        file_name = \"pitcher_vs_batter/\" + playerName + \".csv\"\n",
    "        df.to_csv(file_name)\n",
    "        print(i+j)\n",
    "        print(\"succssesfully export \" + playerName + \".csv\")\n",
    "        i = i + 1"
   ]
  },
  {
   "cell_type": "code",
   "execution_count": null,
   "metadata": {},
   "outputs": [],
   "source": [
    "x = 677\n",
    "y = 678\n",
    "pitcher_vs_batter(x, y)"
   ]
  },
  {
   "cell_type": "markdown",
   "metadata": {},
   "source": [
    "打者近況"
   ]
  },
  {
   "cell_type": "code",
   "execution_count": null,
   "metadata": {},
   "outputs": [],
   "source": [
    "def career(x,y):    \n",
    "    i = 0\n",
    "    j = x\n",
    "    for batter in batters[x:y]:\n",
    "        season = []\n",
    "        ab = []\n",
    "        h = []\n",
    "        twob = []\n",
    "        threeb = []\n",
    "        hr = []\n",
    "        rbi = []\n",
    "        bb = []\n",
    "        ibb = []\n",
    "        so = []\n",
    "        avg = []\n",
    "        obp = []\n",
    "        slg = []\n",
    "        ops = []\n",
    "        playerId, playerName, teamName = batter\n",
    "        for team in team_name_id.keys():\n",
    "            if teamName == team:\n",
    "                continue\n",
    "            url = f\"https://statsapi.mlb.com/api/v1/people/{playerId}/stats?stats=yearByYear,career,yearByYearAdvanced,careerAdvanced&gameType=R&leagueListId=mlb_hist&group=hitting&hydrate=team(league)&language=en\"\n",
    "            #print(url)\n",
    "            r = requests.get(url)\n",
    "            player_json = json.loads(r.content)\n",
    "            \n",
    "            for data_type in player_json[\"stats\"]:\n",
    "                if data_type[\"type\"][\"displayName\"] == \"yearByYear\":\n",
    "                    for split in data_type[\"splits\"]:\n",
    "                        #print(split.keys())\n",
    "                        season.append(split[\"season\"])\n",
    "                        split_stat = split[\"stat\"]\n",
    "                        ab.append(split_stat[\"atBats\"])\n",
    "                        h.append(split_stat[\"hits\"])\n",
    "                        twob.append(split_stat[\"doubles\"])\n",
    "                        threeb.append(split_stat[\"triples\"])\n",
    "                        hr.append(split_stat[\"homeRuns\"])\n",
    "                        rbi.append(split_stat[\"rbi\"])\n",
    "                        bb.append(split_stat[\"baseOnBalls\"])\n",
    "                        ibb.append(split_stat[\"intentionalWalks\"])\n",
    "                        so.append(split_stat[\"strikeOuts\"])\n",
    "                        avg.append(split_stat[\"avg\"])\n",
    "                        obp.append(split_stat[\"obp\"])\n",
    "                        slg.append(split_stat[\"slg\"])\n",
    "                        ops.append(split_stat[\"ops\"])\n",
    "\n",
    "\n",
    "        df = pd.DataFrame(\n",
    "            {\n",
    "                \"Season\":season,\n",
    "                \"ab\": ab,\n",
    "                \"h\": h,\n",
    "                \"2b\": twob,\n",
    "                \"3b\": threeb,\n",
    "                \"hr\": hr,\n",
    "                \"rbi\": rbi,\n",
    "                \"bb\": bb,\n",
    "                \"ibb\": ibb,\n",
    "                \"so\": so,\n",
    "                \"avg\": avg,\n",
    "                \"obp\": obp,\n",
    "                \"slg\": slg,\n",
    "                \"ops\": ops,\n",
    "            }\n",
    "        )\n",
    "        file_name = \"career/\" + playerName + \".csv\"\n",
    "        df.to_csv(file_name)\n",
    "        print(i+j)\n",
    "        print(\"succssesfully export \" + playerName + \".csv\")\n",
    "        i = i + 1\n"
   ]
  },
  {
   "cell_type": "code",
   "execution_count": null,
   "metadata": {},
   "outputs": [],
   "source": [
    "x = 677\n",
    "y = 678\n",
    "career(x, y)"
   ]
  },
  {
   "cell_type": "markdown",
   "metadata": {},
   "source": [
    "https://ws.statsapi.mlb.com/api/v1.1/game/717505/feed/live?language=en"
   ]
  },
  {
   "cell_type": "code",
   "execution_count": null,
   "metadata": {},
   "outputs": [],
   "source": [
    "def pinch_hitter(x,y):    \n",
    "    i = 0\n",
    "    j = x\n",
    "    for batter in batters[x:y]:\n",
    "        season = []\n",
    "        ab = []\n",
    "        h = []\n",
    "        twob = []\n",
    "        threeb = []\n",
    "        hr = []\n",
    "        rbi = []\n",
    "        bb = []\n",
    "        ibb = []\n",
    "        so = []\n",
    "        avg = []\n",
    "        obp = []\n",
    "        slg = []\n",
    "        ops = []\n",
    "        playerId, playerName, teamName = batter\n",
    "        for team in team_name_id.keys():\n",
    "            if teamName == team:\n",
    "                continue\n",
    "            url = f\"https://statsapi.mlb.com/api/v1/people/{playerId}/stats?stats=yearByYear,career,yearByYearAdvanced,careerAdvanced&gameType=R&leagueListId=mlb_hist&group=hitting&hydrate=team(league)&language=en\"\n",
    "            #print(url)\n",
    "            r = requests.get(url)\n",
    "            player_json = json.loads(r.content)\n",
    "            \n",
    "            for data_type in player_json[\"stats\"]:\n",
    "                if data_type[\"type\"][\"displayName\"] == \"yearByYear\":\n",
    "                    for split in data_type[\"splits\"]:\n",
    "                        #print(split.keys())\n",
    "                        season.append(split[\"season\"])\n",
    "                        split_stat = split[\"stat\"]\n",
    "                        ab.append(split_stat[\"atBats\"])\n",
    "                        h.append(split_stat[\"hits\"])\n",
    "                        twob.append(split_stat[\"doubles\"])\n",
    "                        threeb.append(split_stat[\"triples\"])\n",
    "                        hr.append(split_stat[\"homeRuns\"])\n",
    "                        rbi.append(split_stat[\"rbi\"])\n",
    "                        bb.append(split_stat[\"baseOnBalls\"])\n",
    "                        ibb.append(split_stat[\"intentionalWalks\"])\n",
    "                        so.append(split_stat[\"strikeOuts\"])\n",
    "                        avg.append(split_stat[\"avg\"])\n",
    "                        obp.append(split_stat[\"obp\"])\n",
    "                        slg.append(split_stat[\"slg\"])\n",
    "                        ops.append(split_stat[\"ops\"])\n",
    "\n",
    "\n",
    "        df = pd.DataFrame(\n",
    "            {\n",
    "                \"Season\":season,\n",
    "                \"ab\": ab,\n",
    "                \"h\": h,\n",
    "                \"2b\": twob,\n",
    "                \"3b\": threeb,\n",
    "                \"hr\": hr,\n",
    "                \"rbi\": rbi,\n",
    "                \"bb\": bb,\n",
    "                \"ibb\": ibb,\n",
    "                \"so\": so,\n",
    "                \"avg\": avg,\n",
    "                \"obp\": obp,\n",
    "                \"slg\": slg,\n",
    "                \"ops\": ops,\n",
    "            }\n",
    "        )\n",
    "        file_name = \"career/\" + playerName + \".csv\"\n",
    "        df.to_csv(file_name)\n",
    "        print(i+j)\n",
    "        print(\"succssesfully export \" + playerName + \".csv\")\n",
    "        i = i + 1\n"
   ]
  }
 ],
 "metadata": {
  "kernelspec": {
   "display_name": "Python 3",
   "language": "python",
   "name": "python3"
  },
  "language_info": {
   "codemirror_mode": {
    "name": "ipython",
    "version": 3
   },
   "file_extension": ".py",
   "mimetype": "text/x-python",
   "name": "python",
   "nbconvert_exporter": "python",
   "pygments_lexer": "ipython3",
   "version": "3.10.11"
  }
 },
 "nbformat": 4,
 "nbformat_minor": 0
}
