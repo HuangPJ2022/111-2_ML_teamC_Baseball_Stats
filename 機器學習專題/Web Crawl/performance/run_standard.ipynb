{
 "cells": [
  {
   "cell_type": "code",
   "execution_count": 1,
   "metadata": {},
   "outputs": [],
   "source": [
    "from bs4 import BeautifulSoup\n",
    "import requests\n",
    "import pandas as pd\n",
    "import time\n",
    "import sys\n",
    "\n",
    "error_list = []\n",
    "\n",
    "def standard(name, url_):\n",
    "\n",
    "    #載入網站html\n",
    "    html_text = requests.get(url_)\n",
    "    soup = BeautifulSoup(html_text.text, 'lxml')\n",
    "    \n",
    "    try:    \n",
    "        #爬取欄位名稱\n",
    "        standard_piching = soup.find('div', id='mlb_career')\n",
    "        div = standard_piching.find('div', id='mlbPitching')\n",
    "        thead = div.find('thead')\n",
    "        tr = thead.find('tr')\n",
    "        th = tr.find_all('th')[1:]\n",
    "        columns_name = []\n",
    "        for i in th:\n",
    "            columns_name.append(i.text)\n",
    "\n",
    "        #爬取data\n",
    "        tbody = div.find('tbody')\n",
    "        tr = tbody.find_all('tr', class_=\"default-table-row\")\n",
    "        standard_data = []\n",
    "        for i in tr:\n",
    "            td = i.find_all('td')\n",
    "            standard_row = []\n",
    "            for j in td:\n",
    "                standard_row.append(j.text.strip())\n",
    "            standard_data.append(standard_row[1:])\n",
    "        standard_data = standard_data[:-2]\n",
    "\n",
    "        #創建dataframe\n",
    "        df = pd.DataFrame(standard_data, columns = columns_name)\n",
    "        file_name = 'standard data/' + name + '(Standard).csv'\n",
    "        df.to_csv(file_name, index=False)\n",
    "    except:\n",
    "        error_list.append(name)\n",
    "\n",
    "def perc(i):\n",
    "    sys.stdout.write('\\r')\n",
    "    sys.stdout.write(\"[%-50s] %d%%\" % ('='*int((i+1)/total*50), (i+1)))\n",
    "    sys.stdout.flush()\n",
    "    time.sleep(0.1)"
   ]
  },
  {
   "cell_type": "code",
   "execution_count": 2,
   "metadata": {},
   "outputs": [
    {
     "name": "stdout",
     "output_type": "stream",
     "text": [
      "[==================================================] 100%\n",
      "error_list:\n",
      "['Alec Hansen', 'Andrew Dean', 'Andy Toelken', 'Austin Ross', 'Ben Krauth', 'Blaine Knight', 'Boyd Vander Kooi', 'Brad Bass']\n"
     ]
    }
   ],
   "source": [
    "data =pd.read_csv('url/url_001_100.csv')\n",
    "error_list = []\n",
    "\n",
    "total = 100\n",
    "for i in range(total):\n",
    "    # 主程式碼\n",
    "    standard(data['name'][i], data['url'][i])\n",
    "    \n",
    "    #進度條\n",
    "    perc(i)\n",
    "\n",
    "print('')\n",
    "print('error_list:')\n",
    "print(error_list)"
   ]
  },
  {
   "cell_type": "code",
   "execution_count": 3,
   "metadata": {},
   "outputs": [
    {
     "name": "stdout",
     "output_type": "stream",
     "text": [
      "[==================================================] 100%\n",
      "error_list:\n",
      "['Brady Aiken', 'Bryan Menendez', 'Caden Lemons', 'Chandler Ferguson', 'Christian Cosby']\n"
     ]
    }
   ],
   "source": [
    "data =pd.read_csv('url/url_101_200.csv')\n",
    "error_list = []\n",
    "\n",
    "total = 100\n",
    "for i in range(total):\n",
    "    # 主程式碼\n",
    "    standard(data['name'][i], data['url'][i])\n",
    "    \n",
    "    #進度條\n",
    "    perc(i)\n",
    "\n",
    "print('')\n",
    "print('error_list:')\n",
    "print(error_list)"
   ]
  },
  {
   "cell_type": "code",
   "execution_count": 4,
   "metadata": {},
   "outputs": [
    {
     "name": "stdout",
     "output_type": "stream",
     "text": [
      "[==================================================] 100%\n",
      "error_list:\n",
      "['Dustin Lacaze', 'Dylan Prohoroff', 'Emerson Hancock', 'Eric Jenkins', 'Erin Baldwin', 'Ethan Larrison', 'Evan Kruczynski', 'Grant Holmes', 'Grayson Long', 'Ian Gardeck', 'Jack Maynard', 'Jacob Stevens', 'Jake Bennett']\n"
     ]
    }
   ],
   "source": [
    "data =pd.read_csv('url/url_301_400.csv')\n",
    "error_list = []\n",
    "\n",
    "total = 100\n",
    "for i in range(total):\n",
    "    # 主程式碼\n",
    "    standard(data['name'][i], data['url'][i])\n",
    "    \n",
    "    #進度條\n",
    "    perc(i)\n",
    "\n",
    "print('')\n",
    "print('error_list:')\n",
    "print(error_list)"
   ]
  },
  {
   "cell_type": "code",
   "execution_count": 5,
   "metadata": {},
   "outputs": [
    {
     "name": "stdout",
     "output_type": "stream",
     "text": [
      "[==================================================] 100%\n",
      "error_list:\n",
      "['Jake Polancic', 'Jared Miller', 'Jayson Schroeder', 'Jon Harris', 'Jordan Scheftz', 'Jordan Stephens', 'Jordan Watson']\n"
     ]
    }
   ],
   "source": [
    "data =pd.read_csv('url/url_401_500.csv')\n",
    "error_list = []\n",
    "\n",
    "total = 100\n",
    "for i in range(total):\n",
    "    # 主程式碼\n",
    "    standard(data['name'][i], data['url'][i])\n",
    "    \n",
    "    #進度條\n",
    "    perc(i)\n",
    "\n",
    "print('')\n",
    "print('error_list:')\n",
    "print(error_list)"
   ]
  },
  {
   "cell_type": "code",
   "execution_count": 6,
   "metadata": {},
   "outputs": [
    {
     "name": "stdout",
     "output_type": "stream",
     "text": [
      "[==================================================] 100%\n",
      "error_list:\n",
      "['Josh Nashed', 'Justin Garcia', 'Justin Lewis', 'Kevin Brown', 'Kevin Smith', 'Kris Anglin', 'Landon Whitson', 'Luis Cruz', 'Luis Ortiz']\n"
     ]
    }
   ],
   "source": [
    "data =pd.read_csv('url/url_501_600.csv')\n",
    "error_list = []\n",
    "\n",
    "total = 100\n",
    "for i in range(total):\n",
    "    # 主程式碼\n",
    "    standard(data['name'][i], data['url'][i])\n",
    "    \n",
    "    #進度條\n",
    "    perc(i)\n",
    "\n",
    "print('')\n",
    "print('error_list:')\n",
    "print(error_list)"
   ]
  },
  {
   "cell_type": "code",
   "execution_count": 7,
   "metadata": {},
   "outputs": [
    {
     "name": "stdout",
     "output_type": "stream",
     "text": [
      "[==================================================] 100%\n",
      "error_list:\n",
      "['Max Wotell', 'Michael Hendrickson', 'Mike Letkewicz', 'Nathan Kirby', 'Nic Enright', 'Noah Song']\n"
     ]
    }
   ],
   "source": [
    "data =pd.read_csv('url/url_601_700.csv')\n",
    "error_list = []\n",
    "\n",
    "total = 100\n",
    "for i in range(total):\n",
    "    # 主程式碼\n",
    "    standard(data['name'][i], data['url'][i])\n",
    "    \n",
    "    #進度條\n",
    "    perc(i)\n",
    "\n",
    "print('')\n",
    "print('error_list:')\n",
    "print(error_list)"
   ]
  },
  {
   "cell_type": "code",
   "execution_count": 8,
   "metadata": {},
   "outputs": [
    {
     "name": "stdout",
     "output_type": "stream",
     "text": [
      "[==================================================] 100%\n",
      "error_list:\n",
      "['Parker Bugg', 'Paul Richan', 'Randy Johnson', 'Rayan Gonzalez', 'Riley Echols', 'Riley Ferrell', 'Ross Stripling', 'Ruben Garcia', 'Ryan Lillie', 'Ryan Rolison', 'Ryan Scott']\n"
     ]
    }
   ],
   "source": [
    "data =pd.read_csv('url/url_701_800.csv')\n",
    "error_list = []\n",
    "\n",
    "total = 100\n",
    "for i in range(total):\n",
    "    # 主程式碼\n",
    "    standard(data['name'][i], data['url'][i])\n",
    "    \n",
    "    #進度條\n",
    "    perc(i)\n",
    "\n",
    "print('')\n",
    "print('error_list:')\n",
    "print(error_list)"
   ]
  },
  {
   "cell_type": "code",
   "execution_count": 9,
   "metadata": {},
   "outputs": [
    {
     "name": "stdout",
     "output_type": "stream",
     "text": [
      "[==================================================] 100%\n",
      "error_list:\n",
      "['Spencer Adams', 'Trent Autry']\n"
     ]
    }
   ],
   "source": [
    "data =pd.read_csv('url/url_801_900.csv')\n",
    "error_list = []\n",
    "\n",
    "total = 100\n",
    "for i in range(total):\n",
    "    # 主程式碼\n",
    "    standard(data['name'][i], data['url'][i])\n",
    "    \n",
    "    #進度條\n",
    "    perc(i)\n",
    "\n",
    "print('')\n",
    "print('error_list:')\n",
    "print(error_list)"
   ]
  },
  {
   "cell_type": "code",
   "execution_count": 10,
   "metadata": {},
   "outputs": [
    {
     "name": "stdout",
     "output_type": "stream",
     "text": [
      "[==================================================] 57%\n",
      "error_list:\n",
      "['Tyler Jones', 'Tyler Poulin', 'Tyler Webb']\n"
     ]
    }
   ],
   "source": [
    "data =pd.read_csv('url/url_901_957.csv')\n",
    "error_list = []\n",
    "\n",
    "total = 57\n",
    "for i in range(total):\n",
    "    # 主程式碼\n",
    "    standard(data['name'][i], data['url'][i])\n",
    "    \n",
    "    #進度條\n",
    "    perc(i)\n",
    "\n",
    "print('')\n",
    "print('error_list:')\n",
    "print(error_list)"
   ]
  }
 ],
 "metadata": {
  "kernelspec": {
   "display_name": "Python 3",
   "language": "python",
   "name": "python3"
  },
  "language_info": {
   "codemirror_mode": {
    "name": "ipython",
    "version": 3
   },
   "file_extension": ".py",
   "mimetype": "text/x-python",
   "name": "python",
   "nbconvert_exporter": "python",
   "pygments_lexer": "ipython3",
   "version": "3.10.11"
  },
  "orig_nbformat": 4
 },
 "nbformat": 4,
 "nbformat_minor": 2
}
